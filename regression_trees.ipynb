{
 "cells": [
  {
   "cell_type": "code",
   "execution_count": null,
   "metadata": {},
   "outputs": [],
   "source": [
    "import pandas as pd\n",
    "\n",
    "# Load the dataset\n",
    "file_path = 'dubai_cars_dataset.csv'\n",
    "cars_data = pd.read_csv(file_path)\n",
    "\n",
    "# Display the first few rows and data info\n",
    "print(cars_data.head())\n",
    "print(cars_data.info())"
   ]
  },
  {
   "cell_type": "code",
   "execution_count": null,
   "metadata": {},
   "outputs": [],
   "source": [
    "from sklearn.preprocessing import OneHotEncoder\n",
    "\n",
    "# Drop less relevant columns\n",
    "cars_data.drop(['address', 'country', 'city', 'area_name', 'location_name'], axis=1, inplace=True)\n",
    "\n",
    "# Fill missing values with median for numerical columns and mode for categorical\n",
    "for column in cars_data.columns:\n",
    "    if cars_data[column].dtype == 'object':\n",
    "        # Using mode for categorical data\n",
    "        mode_value = cars_data[column].mode()[0]\n",
    "        cars_data[column] = cars_data[column].fillna(mode_value)\n",
    "    else:\n",
    "        # Using median for numerical data\n",
    "        median_value = cars_data[column].median()\n",
    "        cars_data[column] = cars_data[column].fillna(median_value)\n",
    "\n",
    "# Initialize OneHotEncoder\n",
    "encoder = OneHotEncoder(handle_unknown='ignore')\n",
    "\n",
    "# Select categorical data\n",
    "categorical_data = cars_data.select_dtypes(include=['object'])\n",
    "\n",
    "# Fit and transform categorical data\n",
    "encoded_columns = encoder.fit_transform(categorical_data).toarray()\n",
    "encoded_df = pd.DataFrame(encoded_columns, columns=encoder.get_feature_names_out(categorical_data.columns))\n",
    "\n",
    "# Drop original categorical columns and concatenate encoded columns\n",
    "cars_data.drop(columns=categorical_data.columns, inplace=True)\n",
    "cars_data = pd.concat([cars_data, encoded_df], axis=1)\n",
    "\n",
    "# Splitting the dataset into features and target variable\n",
    "X = cars_data.drop('price', axis=1)\n",
    "y = cars_data['price']\n",
    "\n",
    "# Splitting the dataset into training and testing sets\n",
    "from sklearn.model_selection import train_test_split\n",
    "X_train, X_test, y_train, y_test = train_test_split(X, y, test_size=0.2, random_state=42)\n",
    "\n",
    "# Print head to verify\n",
    "X_train.head()"
   ]
  },
  {
   "cell_type": "code",
   "execution_count": null,
   "metadata": {},
   "outputs": [],
   "source": [
    "from sklearn.tree import DecisionTreeRegressor\n",
    "from sklearn.metrics import mean_squared_error, r2_score\n",
    "\n",
    "# Initialize the Decision Tree Regressor\n",
    "regressor = DecisionTreeRegressor(random_state=42)\n",
    "\n",
    "# Fit the model to the training data\n",
    "regressor.fit(X_train, y_train)\n",
    "\n",
    "# Predict on the test set\n",
    "y_pred = regressor.predict(X_test)\n"
   ]
  },
  {
   "cell_type": "code",
   "execution_count": null,
   "metadata": {},
   "outputs": [],
   "source": [
    "# Calculate R^2 and MSE for the test set\n",
    "mse = mean_squared_error(y_test, y_pred)\n",
    "r2 = r2_score(y_test, y_pred)\n",
    "\n",
    "print(f'Mean Squared Error: {mse:.2f}')\n",
    "print(f'R² Score: {r2:.2f}')\n"
   ]
  },
  {
   "cell_type": "code",
   "execution_count": null,
   "metadata": {},
   "outputs": [],
   "source": [
    "# Adding cross validation\n",
    "\n",
    "from sklearn.model_selection import cross_val_score\n",
    "from sklearn.tree import DecisionTreeRegressor\n",
    "import numpy as np\n",
    "\n",
    "# Initialize the Decision Tree Regressor\n",
    "regressor = DecisionTreeRegressor(random_state=42)\n",
    "\n",
    "# Assuming the dataset is ready and X, y are defined\n",
    "# If X and y are not defined, you need to split your dataset appropriately\n",
    "# X = cars_data.drop('price', axis=1)\n",
    "# y = cars_data['price']\n",
    "\n",
    "# Perform 10-fold cross-validation\n",
    "scores = cross_val_score(regressor, X, y, cv=10, scoring='r2')\n",
    "\n",
    "# Calculate the average R² score across all folds\n",
    "average_r2 = np.mean(scores)\n",
    "\n",
    "# Display the results\n",
    "print(\"R² scores for each fold:\", scores)\n",
    "print(\"Average R² score:\", average_r2)\n"
   ]
  }
 ],
 "metadata": {
  "kernelspec": {
   "display_name": ".venv",
   "language": "python",
   "name": "python3"
  },
  "language_info": {
   "codemirror_mode": {
    "name": "ipython",
    "version": 3
   },
   "file_extension": ".py",
   "mimetype": "text/x-python",
   "name": "python",
   "nbconvert_exporter": "python",
   "pygments_lexer": "ipython3",
   "version": "3.12.3"
  }
 },
 "nbformat": 4,
 "nbformat_minor": 2
}
